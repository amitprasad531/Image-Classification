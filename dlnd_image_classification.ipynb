{
 "cells": [
  {
   "cell_type": "markdown",
   "metadata": {
    "collapsed": true,
    "deletable": true,
    "editable": true
   },
   "source": [
    "# Image Classification\n",
    "In this project, you'll classify images from the [CIFAR-10 dataset](https://www.cs.toronto.edu/~kriz/cifar.html).  The dataset consists of airplanes, dogs, cats, and other objects. You'll preprocess the images, then train a convolutional neural network on all the samples. The images need to be normalized and the labels need to be one-hot encoded.  You'll get to apply what you learned and build a convolutional, max pooling, dropout, and fully connected layers.  At the end, you'll get to see your neural network's predictions on the sample images.\n",
    "## Get the Data\n",
    "Run the following cell to download the [CIFAR-10 dataset for python](https://www.cs.toronto.edu/~kriz/cifar-10-python.tar.gz)."
   ]
  },
  {
   "cell_type": "code",
   "execution_count": 1,
   "metadata": {
    "collapsed": false,
    "deletable": true,
    "editable": true
   },
   "outputs": [
    {
     "name": "stdout",
     "output_type": "stream",
     "text": [
      "All files found!\n"
     ]
    }
   ],
   "source": [
    "\"\"\"\n",
    "DON'T MODIFY ANYTHING IN THIS CELL THAT IS BELOW THIS LINE\n",
    "\"\"\"\n",
    "from urllib.request import urlretrieve\n",
    "from os.path import isfile, isdir\n",
    "from tqdm import tqdm\n",
    "import problem_unittests as tests\n",
    "import tarfile\n",
    "\n",
    "cifar10_dataset_folder_path = 'cifar-10-batches-py'\n",
    "\n",
    "class DLProgress(tqdm):\n",
    "    last_block = 0\n",
    "\n",
    "    def hook(self, block_num=1, block_size=1, total_size=None):\n",
    "        self.total = total_size\n",
    "        self.update((block_num - self.last_block) * block_size)\n",
    "        self.last_block = block_num\n",
    "\n",
    "if not isfile('cifar-10-python.tar.gz'):\n",
    "    with DLProgress(unit='B', unit_scale=True, miniters=1, desc='CIFAR-10 Dataset') as pbar:\n",
    "        urlretrieve(\n",
    "            'https://www.cs.toronto.edu/~kriz/cifar-10-python.tar.gz',\n",
    "            'cifar-10-python.tar.gz',\n",
    "            pbar.hook)\n",
    "\n",
    "if not isdir(cifar10_dataset_folder_path):\n",
    "    with tarfile.open('cifar-10-python.tar.gz') as tar:\n",
    "        tar.extractall()\n",
    "        tar.close()\n",
    "\n",
    "\n",
    "tests.test_folder_path(cifar10_dataset_folder_path)"
   ]
  },
  {
   "cell_type": "markdown",
   "metadata": {
    "deletable": true,
    "editable": true
   },
   "source": [
    "## Explore the Data\n",
    "The dataset is broken into batches to prevent your machine from running out of memory.  The CIFAR-10 dataset consists of 5 batches, named `data_batch_1`, `data_batch_2`, etc.. Each batch contains the labels and images that are one of the following:\n",
    "* airplane\n",
    "* automobile\n",
    "* bird\n",
    "* cat\n",
    "* deer\n",
    "* dog\n",
    "* frog\n",
    "* horse\n",
    "* ship\n",
    "* truck\n",
    "\n",
    "Understanding a dataset is part of making predictions on the data.  Play around with the code cell below by changing the `batch_id` and `sample_id`. The `batch_id` is the id for a batch (1-5). The `sample_id` is the id for a image and label pair in the batch.\n",
    "\n",
    "Ask yourself \"What are all possible labels?\", \"What is the range of values for the image data?\", \"Are the labels in order or random?\".  Answers to questions like these will help you preprocess the data and end up with better predictions."
   ]
  },
  {
   "cell_type": "code",
   "execution_count": 2,
   "metadata": {
    "collapsed": false,
    "deletable": true,
    "editable": true
   },
   "outputs": [
    {
     "name": "stdout",
     "output_type": "stream",
     "text": [
      "\n",
      "Stats of batch 4:\n",
      "Samples: 10000\n",
      "Label Counts: {0: 1003, 1: 963, 2: 1041, 3: 976, 4: 1004, 5: 1021, 6: 1004, 7: 981, 8: 1024, 9: 983}\n",
      "First 20 Labels: [0, 6, 0, 2, 7, 2, 1, 2, 4, 1, 5, 6, 6, 3, 1, 3, 5, 5, 8, 1]\n",
      "\n",
      "Example of Image 5578:\n",
      "Image - Min Value: 18 Max Value: 251\n",
      "Image - Shape: (32, 32, 3)\n",
      "Label - Label Id: 8 Name: ship\n"
     ]
    },
    {
     "data": {
      "image/png": "[encoded data removed]",
      "text/plain": [
       "<matplotlib.figure.Figure at 0x7f9672636358>"
      ]
     },
     "metadata": {
      "image/png": {
       "height": 250,
       "width": 253
      }
     },
     "output_type": "display_data"
    }
   ],
   "source": [
    "%matplotlib inline\n",
    "%config InlineBackend.figure_format = 'retina'\n",
    "\n",
    "import helper\n",
    "import numpy as np\n",
    "\n",
    "# Explore the dataset\n",
    "batch_id = 4\n",
    "sample_id = 5578\n",
    "helper.display_stats(cifar10_dataset_folder_path, batch_id, sample_id)"
   ]
  },
  {
   "cell_type": "markdown",
   "metadata": {
    "deletable": true,
    "editable": true
   },
   "source": [
    "## Implement Preprocess Functions\n",
    "### Normalize\n",
    "In the cell below, implement the `normalize` function to take in image data, `x`, and return it as a normalized Numpy array. The values should be in the range of 0 to 1, inclusive.  The return object should be the same shape as `x`."
   ]
  },
  {
   "cell_type": "code",
   "execution_count": 3,
   "metadata": {
    "collapsed": false,
    "deletable": true,
    "editable": true
   },
   "outputs": [
    {
     "name": "stdout",
     "output_type": "stream",
     "text": [
      "Tests Passed\n"
     ]
    }
   ],
   "source": [
    "def normalize(x):\n",
    "    \"\"\"\n",
    "    Normalize a list of sample image data in the range of 0 to 1\n",
    "    : x: List of image data.  The image shape is (32, 32, 3)\n",
    "    : return: Numpy array of normalize data\n",
    "    \"\"\"\n",
    "    # TODO: Implement Function\n",
    "    x_min = x.min(axis=(1, 2), keepdims=True)\n",
    "    x_max = x.max(axis=(1, 2), keepdims=True)\n",
    "    \n",
    "    return (x - x_min)/(x_max - x_min)\n",
    "\n",
    "\n",
    "\"\"\"\n",
    "DON'T MODIFY ANYTHING IN THIS CELL THAT IS BELOW THIS LINE\n",
    "\"\"\"\n",
    "tests.test_normalize(normalize)"
   ]
  },
  {
   "cell_type": "markdown",
   "metadata": {
    "deletable": true,
    "editable": true
   },
   "source": [
    "### One-hot encode\n",
    "Just like the previous code cell, you'll be implementing a function for preprocessing.  This time, you'll implement the `one_hot_encode` function. The input, `x`, are a list of labels.  Implement the function to return the list of labels as One-Hot encoded Numpy array.  The possible values for labels are 0 to 9. The one-hot encoding function should return the same encoding for each value between each call to `one_hot_encode`.  Make sure to save the map of encodings outside the function.\n",
    "\n",
    "Hint: Don't reinvent the wheel."
   ]
  },
  {
   "cell_type": "code",
   "execution_count": 4,
   "metadata": {
    "collapsed": false,
    "deletable": true,
    "editable": true
   },
   "outputs": [
    {
     "name": "stdout",
     "output_type": "stream",
     "text": [
      "Tests Passed\n"
     ]
    }
   ],
   "source": [
    "def one_hot_encode(x):\n",
    "    \"\"\"\n",
    "    One hot encode a list of sample labels. Return a one-hot encoded vector for each label.\n",
    "    : x: List of sample Labels\n",
    "    : return: Numpy array of one-hot encoded labels\n",
    "    \"\"\"\n",
    "    # TODO: Implement Function\n",
    "    one_hot_encode = np.zeros((len(x), 10))\n",
    "    one_hot_encode[np.arange(len(x)), x] = 1\n",
    "    return one_hot_encode\n",
    "\n",
    "\n",
    "\"\"\"\n",
    "DON'T MODIFY ANYTHING IN THIS CELL THAT IS BELOW THIS LINE\n",
    "\"\"\"\n",
    "tests.test_one_hot_encode(one_hot_encode)"
   ]
  },
  {
   "cell_type": "markdown",
   "metadata": {
    "deletable": true,
    "editable": true
   },
   "source": [
    "### Randomize Data\n",
    "As you saw from exploring the data above, the order of the samples are randomized.  It doesn't hurt to randomize it again, but you don't need to for this dataset."
   ]
  },
  {
   "cell_type": "markdown",
   "metadata": {
    "deletable": true,
    "editable": true
   },
   "source": [
    "## Preprocess all the data and save it\n",
    "Running the code cell below will preprocess all the CIFAR-10 data and save it to file. The code below also uses 10% of the training data for validation."
   ]
  },
  {
   "cell_type": "code",
   "execution_count": 5,
   "metadata": {
    "collapsed": false,
    "deletable": true,
    "editable": true
   },
   "outputs": [],
   "source": [
    "\"\"\"\n",
    "DON'T MODIFY ANYTHING IN THIS CELL\n",
    "\"\"\"\n",
    "# Preprocess Training, Validation, and Testing Data\n",
    "helper.preprocess_and_save_data(cifar10_dataset_folder_path, normalize, one_hot_encode)"
   ]
  },
  {
   "cell_type": "markdown",
   "metadata": {
    "deletable": true,
    "editable": true
   },
   "source": [
    "# Check Point\n",
    "This is your first checkpoint.  If you ever decide to come back to this notebook or have to restart the notebook, you can start from here.  The preprocessed data has been saved to disk."
   ]
  },
  {
   "cell_type": "code",
   "execution_count": 6,
   "metadata": {
    "collapsed": true,
    "deletable": true,
    "editable": true
   },
   "outputs": [],
   "source": [
    "\"\"\"\n",
    "DON'T MODIFY ANYTHING IN THIS CELL\n",
    "\"\"\"\n",
    "import pickle\n",
    "import problem_unittests as tests\n",
    "import helper\n",
    "\n",
    "# Load the Preprocessed Validation data\n",
    "valid_features, valid_labels = pickle.load(open('preprocess_validation.p', mode='rb'))"
   ]
  },
  {
   "cell_type": "markdown",
   "metadata": {
    "deletable": true,
    "editable": true
   },
   "source": [
    "## Build the network\n",
    "For the neural network, you'll build each layer into a function.  Most of the code you've seen has been outside of functions. To test your code more thoroughly, we require that you put each layer in a function.  This allows us to give you better feedback and test for simple mistakes using our unittests before you submit your project.\n",
    "\n",
    ">**Note:** If you're finding it hard to dedicate enough time for this course each week, we've provided a small shortcut to this part of the project. In the next couple of problems, you'll have the option to use classes from the [TensorFlow Layers](https://www.tensorflow.org/api_docs/python/tf/layers) or [TensorFlow Layers (contrib)](https://www.tensorflow.org/api_guides/python/contrib.layers) packages to build each layer, except the layers you build in the \"Convolutional and Max Pooling Layer\" section.  TF Layers is similar to Keras's and TFLearn's abstraction to layers, so it's easy to pickup.\n",
    "\n",
    ">However, if you would like to get the most out of this course, try to solve all the problems _without_ using anything from the TF Layers packages. You **can** still use classes from other packages that happen to have the same name as ones you find in TF Layers! For example, instead of using the TF Layers version of the `conv2d` class, [tf.layers.conv2d](https://www.tensorflow.org/api_docs/python/tf/layers/conv2d), you would want to use the TF Neural Network version of `conv2d`, [tf.nn.conv2d](https://www.tensorflow.org/api_docs/python/tf/nn/conv2d). \n",
    "\n",
    "Let's begin!\n",
    "\n",
    "### Input\n",
    "The neural network needs to read the image data, one-hot encoded labels, and dropout keep probability. Implement the following functions\n",
    "* Implement `neural_net_image_input`\n",
    " * Return a [TF Placeholder](https://www.tensorflow.org/api_docs/python/tf/placeholder)\n",
    " * Set the shape using `image_shape` with batch size set to `None`.\n",
    " * Name the TensorFlow placeholder \"x\" using the TensorFlow `name` parameter in the [TF Placeholder](https://www.tensorflow.org/api_docs/python/tf/placeholder).\n",
    "* Implement `neural_net_label_input`\n",
    " * Return a [TF Placeholder](https://www.tensorflow.org/api_docs/python/tf/placeholder)\n",
    " * Set the shape using `n_classes` with batch size set to `None`.\n",
    " * Name the TensorFlow placeholder \"y\" using the TensorFlow `name` parameter in the [TF Placeholder](https://www.tensorflow.org/api_docs/python/tf/placeholder).\n",
    "* Implement `neural_net_keep_prob_input`\n",
    " * Return a [TF Placeholder](https://www.tensorflow.org/api_docs/python/tf/placeholder) for dropout keep probability.\n",
    " * Name the TensorFlow placeholder \"keep_prob\" using the TensorFlow `name` parameter in the [TF Placeholder](https://www.tensorflow.org/api_docs/python/tf/placeholder).\n",
    "\n",
    "These names will be used at the end of the project to load your saved model.\n",
    "\n",
    "Note: `None` for shapes in TensorFlow allow for a dynamic size."
   ]
  },
  {
   "cell_type": "code",
   "execution_count": 7,
   "metadata": {
    "collapsed": false,
    "deletable": true,
    "editable": true
   },
   "outputs": [
    {
     "name": "stdout",
     "output_type": "stream",
     "text": [
      "Image Input Tests Passed.\n",
      "Label Input Tests Passed.\n",
      "Keep Prob Tests Passed.\n"
     ]
    }
   ],
   "source": [
    "import tensorflow as tf\n",
    "\n",
    "def neural_net_image_input(image_shape):\n",
    "    \"\"\"\n",
    "    Return a Tensor for a batch of image input\n",
    "    : image_shape: Shape of the images\n",
    "    : return: Tensor for image input.\n",
    "    \"\"\"\n",
    "    # TODO: Implement Function\n",
    "    image_input = tf.placeholder(tf.float32, shape=[None, image_shape[0], image_shape[1], image_shape[2]], name=\"x\")\n",
    "    return image_input\n",
    "\n",
    "\n",
    "def neural_net_label_input(n_classes):\n",
    "    \"\"\"\n",
    "    Return a Tensor for a batch of label input\n",
    "    : n_classes: Number of classes\n",
    "    : return: Tensor for label input.\n",
    "    \"\"\"\n",
    "    # TODO: Implement Function\n",
    "    image_classes = tf.placeholder(tf.float32, shape=[None, n_classes], name=\"y\")\n",
    "    return image_classes\n",
    "\n",
    "\n",
    "def neural_net_keep_prob_input():\n",
    "    \"\"\"\n",
    "    Return a Tensor for keep probability\n",
    "    : return: Tensor for keep probability.\n",
    "    \"\"\"\n",
    "    # TODO: Implement Function\n",
    "    keep_prob = tf.placeholder(tf.float32, name=\"keep_prob\")\n",
    "    return keep_prob\n",
    "\n",
    "\n",
    "\"\"\"\n",
    "DON'T MODIFY ANYTHING IN THIS CELL THAT IS BELOW THIS LINE\n",
    "\"\"\"\n",
    "tf.reset_default_graph()\n",
    "tests.test_nn_image_inputs(neural_net_image_input)\n",
    "tests.test_nn_label_inputs(neural_net_label_input)\n",
    "tests.test_nn_keep_prob_inputs(neural_net_keep_prob_input)"
   ]
  },
  {
   "cell_type": "markdown",
   "metadata": {
    "deletable": true,
    "editable": true
   },
   "source": [
    "### Convolution and Max Pooling Layer\n",
    "Convolution layers have a lot of success with images. For this code cell, you should implement the function `conv2d_maxpool` to apply convolution then max pooling:\n",
    "* Create the weight and bias using `conv_ksize`, `conv_num_outputs` and the shape of `x_tensor`.\n",
    "* Apply a convolution to `x_tensor` using weight and `conv_strides`.\n",
    " * We recommend you use same padding, but you're welcome to use any padding.\n",
    "* Add bias\n",
    "* Add a nonlinear activation to the convolution.\n",
    "* Apply Max Pooling using `pool_ksize` and `pool_strides`.\n",
    " * We recommend you use same padding, but you're welcome to use any padding.\n",
    "\n",
    "**Note:** You **can't** use [TensorFlow Layers](https://www.tensorflow.org/api_docs/python/tf/layers) or [TensorFlow Layers (contrib)](https://www.tensorflow.org/api_guides/python/contrib.layers) for **this** layer, but you can still use TensorFlow's [Neural Network](https://www.tensorflow.org/api_docs/python/tf/nn) package. You may still use the shortcut option for all the **other** layers."
   ]
  },
  {
   "cell_type": "code",
   "execution_count": 8,
   "metadata": {
    "collapsed": false,
    "deletable": true,
    "editable": true
   },
   "outputs": [
    {
     "name": "stdout",
     "output_type": "stream",
     "text": [
      "Tests Passed\n"
     ]
    }
   ],
   "source": [
    "def conv2d_maxpool(x_tensor, conv_num_outputs, conv_ksize, conv_strides, pool_ksize, pool_strides):\n",
    "    \"\"\"\n",
    "    Apply convolution then max pooling to x_tensor\n",
    "    :param x_tensor: TensorFlow Tensor\n",
    "    :param conv_num_outputs: Number of outputs for the convolutional layer\n",
    "    :param conv_ksize: kernal size 2-D Tuple for the convolutional layer\n",
    "    :param conv_strides: Stride 2-D Tuple for convolution\n",
    "    :param pool_ksize: kernal size 2-D Tuple for pool\n",
    "    :param pool_strides: Stride 2-D Tuple for pool\n",
    "    : return: A tensor that represents convolution and max pooling of x_tensor\n",
    "    \"\"\"\n",
    "    # TODO: Implement Function\n",
    "    # Initializing weights and biases\n",
    "    input_depth = x_tensor.get_shape().as_list()[3]\n",
    "    weights = tf.Variable(tf.truncated_normal([conv_ksize[0], conv_ksize[1], input_depth, conv_num_outputs]))\n",
    "    biases = tf.Variable(tf.zeros(conv_num_outputs))\n",
    "    \n",
    "    # Applying a convolution to the x_tensor\n",
    "    conv_layer = tf.nn.conv2d(x_tensor, weights, strides=[1,conv_strides[0],conv_strides[1],1], padding='SAME')\n",
    "    \n",
    "    # Adding bias\n",
    "    conv_layer = tf.nn.bias_add(conv_layer, biases)\n",
    "    \n",
    "    # Adding a nonlinear activation to the convolution\n",
    "    conv_layer = tf.nn.relu(conv_layer)\n",
    "    \n",
    "    # Apply Max Pooling\n",
    "    conv_layer = tf.nn.max_pool(conv_layer, ksize=[1,pool_ksize[0],pool_ksize[1],1], strides=[1,pool_strides[0],pool_strides[1],1], padding='SAME')\n",
    "    \n",
    "    return conv_layer \n",
    "\n",
    "\n",
    "\"\"\"\n",
    "DON'T MODIFY ANYTHING IN THIS CELL THAT IS BELOW THIS LINE\n",
    "\"\"\"\n",
    "tests.test_con_pool(conv2d_maxpool)"
   ]
  },
  {
   "cell_type": "markdown",
   "metadata": {
    "deletable": true,
    "editable": true
   },
   "source": [
    "### Flatten Layer\n",
    "Implement the `flatten` function to change the dimension of `x_tensor` from a 4-D tensor to a 2-D tensor.  The output should be the shape (*Batch Size*, *Flattened Image Size*). Shortcut option: you can use classes from the [TensorFlow Layers](https://www.tensorflow.org/api_docs/python/tf/layers) or [TensorFlow Layers (contrib)](https://www.tensorflow.org/api_guides/python/contrib.layers) packages for this layer. For more of a challenge, only use other TensorFlow packages."
   ]
  },
  {
   "cell_type": "code",
   "execution_count": 9,
   "metadata": {
    "collapsed": false,
    "deletable": true,
    "editable": true
   },
   "outputs": [
    {
     "name": "stdout",
     "output_type": "stream",
     "text": [
      "Tests Passed\n"
     ]
    }
   ],
   "source": [
    "def flatten(x_tensor):\n",
    "    \"\"\"\n",
    "    Flatten x_tensor to (Batch Size, Flattened Image Size)\n",
    "    : x_tensor: A tensor of size (Batch Size, ...), where ... are the image dimensions.\n",
    "    : return: A tensor of size (Batch Size, Flattened Image Size).\n",
    "    \"\"\"\n",
    "    # TODO: Implement Function\n",
    "    x_tensor_shape = x_tensor.get_shape().as_list()\n",
    "    dim = np.prod(x_tensor_shape[1:])\n",
    "    return tf.reshape(x_tensor,[-1,dim])\n",
    "\n",
    "\n",
    "\"\"\"\n",
    "DON'T MODIFY ANYTHING IN THIS CELL THAT IS BELOW THIS LINE\n",
    "\"\"\"\n",
    "tests.test_flatten(flatten)"
   ]
  },
  {
   "cell_type": "markdown",
   "metadata": {
    "deletable": true,
    "editable": true
   },
   "source": [
    "### Fully-Connected Layer\n",
    "Implement the `fully_conn` function to apply a fully connected layer to `x_tensor` with the shape (*Batch Size*, *num_outputs*). Shortcut option: you can use classes from the [TensorFlow Layers](https://www.tensorflow.org/api_docs/python/tf/layers) or [TensorFlow Layers (contrib)](https://www.tensorflow.org/api_guides/python/contrib.layers) packages for this layer. For more of a challenge, only use other TensorFlow packages."
   ]
  },
  {
   "cell_type": "code",
   "execution_count": 10,
   "metadata": {
    "collapsed": false,
    "deletable": true,
    "editable": true
   },
   "outputs": [
    {
     "name": "stdout",
     "output_type": "stream",
     "text": [
      "Tests Passed\n"
     ]
    }
   ],
   "source": [
    "def fully_conn(x_tensor, num_outputs):\n",
    "    \"\"\"\n",
    "    Apply a fully connected layer to x_tensor using weight and bias\n",
    "    : x_tensor: A 2-D tensor where the first dimension is batch size.\n",
    "    : num_outputs: The number of output that the new tensor should be.\n",
    "    : return: A 2-D tensor where the second dimension is num_outputs.\n",
    "    \"\"\"\n",
    "    # TODO: Implement Function\n",
    "    datasize = x_tensor.get_shape().as_list()[1]\n",
    "    weights = tf.Variable(tf.truncated_normal([datasize, num_outputs], mean=0.0, stddev=0.05))\n",
    "    biases = tf.Variable(tf.zeros(num_outputs))\n",
    "    fc_layer = tf.add(tf.matmul(x_tensor, weights), biases)\n",
    "    fc_layer = tf.nn.relu(fc_layer)\n",
    "    return fc_layer\n",
    "\n",
    "\n",
    "\"\"\"\n",
    "DON'T MODIFY ANYTHING IN THIS CELL THAT IS BELOW THIS LINE\n",
    "\"\"\"\n",
    "tests.test_fully_conn(fully_conn)"
   ]
  },
  {
   "cell_type": "markdown",
   "metadata": {
    "deletable": true,
    "editable": true
   },
   "source": [
    "### Output Layer\n",
    "Implement the `output` function to apply a fully connected layer to `x_tensor` with the shape (*Batch Size*, *num_outputs*). Shortcut option: you can use classes from the [TensorFlow Layers](https://www.tensorflow.org/api_docs/python/tf/layers) or [TensorFlow Layers (contrib)](https://www.tensorflow.org/api_guides/python/contrib.layers) packages for this layer. For more of a challenge, only use other TensorFlow packages.\n",
    "\n",
    "**Note:** Activation, softmax, or cross entropy should **not** be applied to this."
   ]
  },
  {
   "cell_type": "code",
   "execution_count": 11,
   "metadata": {
    "collapsed": false,
    "deletable": true,
    "editable": true
   },
   "outputs": [
    {
     "name": "stdout",
     "output_type": "stream",
     "text": [
      "Tests Passed\n"
     ]
    }
   ],
   "source": [
    "def output(x_tensor, num_outputs):\n",
    "    \"\"\"\n",
    "    Apply a output layer to x_tensor using weight and bias\n",
    "    : x_tensor: A 2-D tensor where the first dimension is batch size.\n",
    "    : num_outputs: The number of output that the new tensor should be.\n",
    "    : return: A 2-D tensor where the second dimension is num_outputs.\n",
    "    \"\"\"\n",
    "    # TODO: Implement Function\n",
    "    datasize = x_tensor.get_shape().as_list()[1]\n",
    "    weights = tf.Variable(tf.truncated_normal([datasize, num_outputs], mean=0.0, stddev=0.05))\n",
    "    biases = tf.Variable(tf.zeros(num_outputs))\n",
    "    output = tf.add(tf.matmul(x_tensor, weights), biases)\n",
    "    return output\n",
    "\n",
    "\n",
    "\"\"\"\n",
    "DON'T MODIFY ANYTHING IN THIS CELL THAT IS BELOW THIS LINE\n",
    "\"\"\"\n",
    "tests.test_output(output)"
   ]
  },
  {
   "cell_type": "markdown",
   "metadata": {
    "deletable": true,
    "editable": true
   },
   "source": [
    "### Create Convolutional Model\n",
    "Implement the function `conv_net` to create a convolutional neural network model. The function takes in a batch of images, `x`, and outputs logits.  Use the layers you created above to create this model:\n",
    "\n",
    "* Apply 1, 2, or 3 Convolution and Max Pool layers\n",
    "* Apply a Flatten Layer\n",
    "* Apply 1, 2, or 3 Fully Connected Layers\n",
    "* Apply an Output Layer\n",
    "* Return the output\n",
    "* Apply [TensorFlow's Dropout](https://www.tensorflow.org/api_docs/python/tf/nn/dropout) to one or more layers in the model using `keep_prob`. "
   ]
  },
  {
   "cell_type": "code",
   "execution_count": 189,
   "metadata": {
    "collapsed": false,
    "deletable": true,
    "editable": true
   },
   "outputs": [
    {
     "name": "stdout",
     "output_type": "stream",
     "text": [
      "Neural Network Built!\n"
     ]
    }
   ],
   "source": [
    "def conv_net(x, keep_prob):\n",
    "    \"\"\"\n",
    "    Create a convolutional neural network model\n",
    "    : x: Placeholder tensor that holds image data.\n",
    "    : keep_prob: Placeholder tensor that hold dropout keep probability.\n",
    "    : return: Tensor that represents logits\n",
    "    \"\"\"\n",
    "    conv_num_outputs = 200\n",
    "    conv_ksize = (3,3)\n",
    "    conv_strides = (1,1)\n",
    "    pool_ksize = (3,3)\n",
    "    pool_strides = (2,2)\n",
    "    num_outputs = 128\n",
    "    n_classes = 10\n",
    "    \n",
    "    # TODO: Apply 1, 2, or 3 Convolution and Max Pool layers\n",
    "    #    Play around with different number of outputs, kernel size and stride\n",
    "    # Function Definition from Above:\n",
    "    conv = conv2d_maxpool(x, conv_num_outputs, conv_ksize, conv_strides, pool_ksize, pool_strides)\n",
    "    conv = tf.nn.dropout(conv, keep_prob)\n",
    "    conv = conv2d_maxpool(x, conv_num_outputs, conv_ksize, conv_strides, pool_ksize, pool_strides)\n",
    "    conv = tf.nn.dropout(conv, keep_prob)\n",
    "    # conv = conv2d_maxpool(x, conv_num_outputs, conv_ksize, conv_strides, pool_ksize, pool_strides)\n",
    "    \n",
    "    # TODO: Apply a Flatten Layer\n",
    "    # Function Definition from Above:\n",
    "    flat = flatten(conv)\n",
    "    \n",
    "\n",
    "    # TODO: Apply 1, 2, or 3 Fully Connected Layers\n",
    "    #    Play around with different number of outputs\n",
    "    # Function Definition from Above:\n",
    "    fc1 = fully_conn(flat, num_outputs)\n",
    "    fc1 = fully_conn(fc1, num_outputs)\n",
    "    fc1 = fully_conn(fc1, num_outputs)\n",
    "    \n",
    "    # TODO: Apply an Output Layer\n",
    "    #    Set this to the number of classes\n",
    "    # Function Definition from Above:\n",
    "    output_layer = output(fc1, n_classes)\n",
    "    \n",
    "    \n",
    "    # TODO: return output\n",
    "    return output_layer\n",
    "\n",
    "\n",
    "\"\"\"\n",
    "DON'T MODIFY ANYTHING IN THIS CELL THAT IS BELOW THIS LINE\n",
    "\"\"\"\n",
    "\n",
    "##############################\n",
    "## Build the Neural Network ##\n",
    "##############################\n",
    "\n",
    "# Remove previous weights, bias, inputs, etc..\n",
    "tf.reset_default_graph()\n",
    "\n",
    "# Inputs\n",
    "x = neural_net_image_input((32, 32, 3))\n",
    "y = neural_net_label_input(10)\n",
    "keep_prob = neural_net_keep_prob_input()\n",
    "\n",
    "# Model\n",
    "logits = conv_net(x, keep_prob)\n",
    "\n",
    "# Name logits Tensor, so that is can be loaded from disk after training\n",
    "logits = tf.identity(logits, name='logits')\n",
    "\n",
    "# Loss and Optimizer\n",
    "cost = tf.reduce_mean(tf.nn.softmax_cross_entropy_with_logits(logits=logits, labels=y))\n",
    "optimizer = tf.train.AdamOptimizer().minimize(cost)\n",
    "\n",
    "# Accuracy\n",
    "correct_pred = tf.equal(tf.argmax(logits, 1), tf.argmax(y, 1))\n",
    "accuracy = tf.reduce_mean(tf.cast(correct_pred, tf.float32), name='accuracy')\n",
    "\n",
    "tests.test_conv_net(conv_net)"
   ]
  },
  {
   "cell_type": "markdown",
   "metadata": {
    "deletable": true,
    "editable": true
   },
   "source": [
    "## Train the Neural Network\n",
    "### Single Optimization\n",
    "Implement the function `train_neural_network` to do a single optimization.  The optimization should use `optimizer` to optimize in `session` with a `feed_dict` of the following:\n",
    "* `x` for image input\n",
    "* `y` for labels\n",
    "* `keep_prob` for keep probability for dropout\n",
    "\n",
    "This function will be called for each batch, so `tf.global_variables_initializer()` has already been called.\n",
    "\n",
    "Note: Nothing needs to be returned. This function is only optimizing the neural network."
   ]
  },
  {
   "cell_type": "code",
   "execution_count": 190,
   "metadata": {
    "collapsed": false,
    "deletable": true,
    "editable": true
   },
   "outputs": [
    {
     "name": "stdout",
     "output_type": "stream",
     "text": [
      "Tests Passed\n"
     ]
    }
   ],
   "source": [
    "def train_neural_network(session, optimizer, keep_probability, feature_batch, label_batch):\n",
    "    \"\"\"\n",
    "    Optimize the session on a batch of images and labels\n",
    "    : session: Current TensorFlow session\n",
    "    : optimizer: TensorFlow optimizer function\n",
    "    : keep_probability: keep probability\n",
    "    : feature_batch: Batch of Numpy image data\n",
    "    : label_batch: Batch of Numpy label data\n",
    "    \"\"\"\n",
    "    # TODO: Implement Function\n",
    "    session.run(optimizer, feed_dict={x: feature_batch, y: label_batch, keep_prob: keep_probability})\n",
    "    pass\n",
    "\n",
    "\n",
    "\"\"\"\n",
    "DON'T MODIFY ANYTHING IN THIS CELL THAT IS BELOW THIS LINE\n",
    "\"\"\"\n",
    "tests.test_train_nn(train_neural_network)"
   ]
  },
  {
   "cell_type": "markdown",
   "metadata": {
    "deletable": true,
    "editable": true
   },
   "source": [
    "### Show Stats\n",
    "Implement the function `print_stats` to print loss and validation accuracy.  Use the global variables `valid_features` and `valid_labels` to calculate validation accuracy.  Use a keep probability of `1.0` to calculate the loss and validation accuracy."
   ]
  },
  {
   "cell_type": "code",
   "execution_count": 191,
   "metadata": {
    "collapsed": false,
    "deletable": true,
    "editable": true
   },
   "outputs": [],
   "source": [
    "def print_stats(session, feature_batch, label_batch, cost, accuracy):\n",
    "    \"\"\"\n",
    "    Print information about loss and validation accuracy\n",
    "    : session: Current TensorFlow session\n",
    "    : feature_batch: Batch of Numpy image data\n",
    "    : label_batch: Batch of Numpy label data\n",
    "    : cost: TensorFlow cost function\n",
    "    : accuracy: TensorFlow accuracy function\n",
    "    \"\"\"\n",
    "    # TODO: Implement Function\n",
    "    loss = session.run(cost, feed_dict={x: feature_batch, y: label_batch, keep_prob: 1.0})\n",
    "    # Splitting the validation dataset into smaller datasets to create a manageable tensor size\n",
    "    valid_acc = 0\n",
    "    for start_i in range(0, len(valid_features), 200):\n",
    "        end_i = start_i + 200\n",
    "        valid_acc += session.run(accuracy, feed_dict={x: valid_features[start_i:end_i], y: valid_labels[start_i:end_i], keep_prob: 1.0})\n",
    "    valid_acc = valid_acc / int(len(valid_features)/200)\n",
    "    print('Loss: {:>10.4f}, Validation Accuracy: {:.6f}'.format(loss, valid_acc))\n",
    "    pass"
   ]
  },
  {
   "cell_type": "markdown",
   "metadata": {
    "deletable": true,
    "editable": true
   },
   "source": [
    "### Hyperparameters\n",
    "Tune the following parameters:\n",
    "* Set `epochs` to the number of iterations until the network stops learning or start overfitting\n",
    "* Set `batch_size` to the highest number that your machine has memory for.  Most people set them to common sizes of memory:\n",
    " * 64\n",
    " * 128\n",
    " * 256\n",
    " * ...\n",
    "* Set `keep_probability` to the probability of keeping a node using dropout"
   ]
  },
  {
   "cell_type": "code",
   "execution_count": 201,
   "metadata": {
    "collapsed": true,
    "deletable": true,
    "editable": true
   },
   "outputs": [],
   "source": [
    "# TODO: Tune Parameters\n",
    "epochs = 30\n",
    "batch_size = 512\n",
    "keep_probability = 1.0"
   ]
  },
  {
   "cell_type": "markdown",
   "metadata": {
    "deletable": true,
    "editable": true
   },
   "source": [
    "### Train on a Single CIFAR-10 Batch\n",
    "Instead of training the neural network on all the CIFAR-10 batches of data, let's use a single batch. This should save time while you iterate on the model to get a better accuracy.  Once the final validation accuracy is 50% or greater, run the model on all the data in the next section."
   ]
  },
  {
   "cell_type": "code",
   "execution_count": 202,
   "metadata": {
    "collapsed": false,
    "deletable": true,
    "editable": true
   },
   "outputs": [
    {
     "name": "stdout",
     "output_type": "stream",
     "text": [
      "Checking the Training on a Single Batch...\n",
      "Epoch  1, CIFAR-10 Batch 1:  Loss:     2.2576, Validation Accuracy: 0.103000\n",
      "Epoch  2, CIFAR-10 Batch 1:  Loss:     2.0396, Validation Accuracy: 0.265600\n",
      "Epoch  3, CIFAR-10 Batch 1:  Loss:     1.8697, Validation Accuracy: 0.317800\n",
      "Epoch  4, CIFAR-10 Batch 1:  Loss:     1.7431, Validation Accuracy: 0.378000\n",
      "Epoch  5, CIFAR-10 Batch 1:  Loss:     1.6125, Validation Accuracy: 0.410600\n",
      "Epoch  6, CIFAR-10 Batch 1:  Loss:     1.4955, Validation Accuracy: 0.453000\n",
      "Epoch  7, CIFAR-10 Batch 1:  Loss:     1.3904, Validation Accuracy: 0.479800\n",
      "Epoch  8, CIFAR-10 Batch 1:  Loss:     1.2816, Validation Accuracy: 0.491000\n",
      "Epoch  9, CIFAR-10 Batch 1:  Loss:     1.1670, Validation Accuracy: 0.505600\n",
      "Epoch 10, CIFAR-10 Batch 1:  Loss:     1.1246, Validation Accuracy: 0.507000\n",
      "Epoch 11, CIFAR-10 Batch 1:  Loss:     1.0448, Validation Accuracy: 0.528800\n",
      "Epoch 12, CIFAR-10 Batch 1:  Loss:     0.9807, Validation Accuracy: 0.527400\n",
      "Epoch 13, CIFAR-10 Batch 1:  Loss:     0.8812, Validation Accuracy: 0.542200\n",
      "Epoch 14, CIFAR-10 Batch 1:  Loss:     0.8112, Validation Accuracy: 0.555800\n",
      "Epoch 15, CIFAR-10 Batch 1:  Loss:     0.7613, Validation Accuracy: 0.555800\n",
      "Epoch 16, CIFAR-10 Batch 1:  Loss:     0.7116, Validation Accuracy: 0.564400\n",
      "Epoch 17, CIFAR-10 Batch 1:  Loss:     0.7337, Validation Accuracy: 0.539200\n",
      "Epoch 18, CIFAR-10 Batch 1:  Loss:     0.7114, Validation Accuracy: 0.557600\n",
      "Epoch 19, CIFAR-10 Batch 1:  Loss:     0.6508, Validation Accuracy: 0.561400\n",
      "Epoch 20, CIFAR-10 Batch 1:  Loss:     0.6263, Validation Accuracy: 0.552800\n",
      "Epoch 21, CIFAR-10 Batch 1:  Loss:     0.5820, Validation Accuracy: 0.564800\n",
      "Epoch 22, CIFAR-10 Batch 1:  Loss:     0.5112, Validation Accuracy: 0.568400\n",
      "Epoch 23, CIFAR-10 Batch 1:  Loss:     0.4771, Validation Accuracy: 0.563000\n",
      "Epoch 24, CIFAR-10 Batch 1:  Loss:     0.4876, Validation Accuracy: 0.547800\n",
      "Epoch 25, CIFAR-10 Batch 1:  Loss:     0.4714, Validation Accuracy: 0.545400\n",
      "Epoch 26, CIFAR-10 Batch 1:  Loss:     0.4863, Validation Accuracy: 0.548800\n",
      "Epoch 27, CIFAR-10 Batch 1:  Loss:     0.4838, Validation Accuracy: 0.556600\n",
      "Epoch 28, CIFAR-10 Batch 1:  Loss:     0.4264, Validation Accuracy: 0.549200\n",
      "Epoch 29, CIFAR-10 Batch 1:  Loss:     0.3967, Validation Accuracy: 0.560000\n",
      "Epoch 30, CIFAR-10 Batch 1:  Loss:     0.3272, Validation Accuracy: 0.583200\n"
     ]
    }
   ],
   "source": [
    "\"\"\"\n",
    "DON'T MODIFY ANYTHING IN THIS CELL\n",
    "\"\"\"\n",
    "print('Checking the Training on a Single Batch...')\n",
    "with tf.Session() as sess:\n",
    "    # Initializing the variables\n",
    "    sess.run(tf.global_variables_initializer())\n",
    "    \n",
    "    # Training cycle\n",
    "    for epoch in range(epochs):\n",
    "        batch_i = 1\n",
    "        for batch_features, batch_labels in helper.load_preprocess_training_batch(batch_i, batch_size):\n",
    "            train_neural_network(sess, optimizer, keep_probability, batch_features, batch_labels)\n",
    "        print('Epoch {:>2}, CIFAR-10 Batch {}:  '.format(epoch + 1, batch_i), end='')\n",
    "        print_stats(sess, batch_features, batch_labels, cost, accuracy)"
   ]
  },
  {
   "cell_type": "markdown",
   "metadata": {
    "deletable": true,
    "editable": true
   },
   "source": [
    "### Fully Train the Model\n",
    "Now that you got a good accuracy with a single CIFAR-10 batch, try it with all five batches."
   ]
  },
  {
   "cell_type": "code",
   "execution_count": 203,
   "metadata": {
    "collapsed": true
   },
   "outputs": [],
   "source": [
    "# change keep probability for dropout in dataset\n",
    "keep_probability = 0.6"
   ]
  },
  {
   "cell_type": "code",
   "execution_count": 204,
   "metadata": {
    "collapsed": false,
    "deletable": true,
    "editable": true
   },
   "outputs": [
    {
     "name": "stdout",
     "output_type": "stream",
     "text": [
      "Training...\n",
      "Epoch  1, CIFAR-10 Batch 1:  Loss:     2.3186, Validation Accuracy: 0.125600\n",
      "Epoch  1, CIFAR-10 Batch 2:  Loss:     2.0407, Validation Accuracy: 0.209000\n",
      "Epoch  1, CIFAR-10 Batch 3:  Loss:     1.8617, Validation Accuracy: 0.299800\n",
      "Epoch  1, CIFAR-10 Batch 4:  Loss:     1.7157, Validation Accuracy: 0.351400\n",
      "Epoch  1, CIFAR-10 Batch 5:  Loss:     1.6695, Validation Accuracy: 0.413800\n",
      "Epoch  2, CIFAR-10 Batch 1:  Loss:     1.6432, Validation Accuracy: 0.447600\n",
      "Epoch  2, CIFAR-10 Batch 2:  Loss:     1.4321, Validation Accuracy: 0.442600\n",
      "Epoch  2, CIFAR-10 Batch 3:  Loss:     1.3489, Validation Accuracy: 0.468800\n",
      "Epoch  2, CIFAR-10 Batch 4:  Loss:     1.3056, Validation Accuracy: 0.487400\n",
      "Epoch  2, CIFAR-10 Batch 5:  Loss:     1.3511, Validation Accuracy: 0.511200\n",
      "Epoch  3, CIFAR-10 Batch 1:  Loss:     1.4433, Validation Accuracy: 0.485200\n",
      "Epoch  3, CIFAR-10 Batch 2:  Loss:     1.2416, Validation Accuracy: 0.503800\n",
      "Epoch  3, CIFAR-10 Batch 3:  Loss:     1.1686, Validation Accuracy: 0.526800\n",
      "Epoch  3, CIFAR-10 Batch 4:  Loss:     1.2069, Validation Accuracy: 0.515800\n",
      "Epoch  3, CIFAR-10 Batch 5:  Loss:     1.1974, Validation Accuracy: 0.546200\n",
      "Epoch  4, CIFAR-10 Batch 1:  Loss:     1.2975, Validation Accuracy: 0.530200\n",
      "Epoch  4, CIFAR-10 Batch 2:  Loss:     1.1279, Validation Accuracy: 0.551600\n",
      "Epoch  4, CIFAR-10 Batch 3:  Loss:     1.0637, Validation Accuracy: 0.564200\n",
      "Epoch  4, CIFAR-10 Batch 4:  Loss:     1.1103, Validation Accuracy: 0.539800\n",
      "Epoch  4, CIFAR-10 Batch 5:  Loss:     1.0898, Validation Accuracy: 0.577000\n",
      "Epoch  5, CIFAR-10 Batch 1:  Loss:     1.1905, Validation Accuracy: 0.559800\n",
      "Epoch  5, CIFAR-10 Batch 2:  Loss:     1.0478, Validation Accuracy: 0.569400\n",
      "Epoch  5, CIFAR-10 Batch 3:  Loss:     1.0082, Validation Accuracy: 0.581600\n",
      "Epoch  5, CIFAR-10 Batch 4:  Loss:     1.0190, Validation Accuracy: 0.575600\n",
      "Epoch  5, CIFAR-10 Batch 5:  Loss:     1.0150, Validation Accuracy: 0.597000\n",
      "Epoch  6, CIFAR-10 Batch 1:  Loss:     1.0980, Validation Accuracy: 0.585400\n",
      "Epoch  6, CIFAR-10 Batch 2:  Loss:     0.9699, Validation Accuracy: 0.597000\n",
      "Epoch  6, CIFAR-10 Batch 3:  Loss:     0.9595, Validation Accuracy: 0.590000\n",
      "Epoch  6, CIFAR-10 Batch 4:  Loss:     0.9573, Validation Accuracy: 0.588600\n",
      "Epoch  6, CIFAR-10 Batch 5:  Loss:     0.9692, Validation Accuracy: 0.606800\n",
      "Epoch  7, CIFAR-10 Batch 1:  Loss:     1.0244, Validation Accuracy: 0.604200\n",
      "Epoch  7, CIFAR-10 Batch 2:  Loss:     0.9600, Validation Accuracy: 0.591800\n",
      "Epoch  7, CIFAR-10 Batch 3:  Loss:     0.8973, Validation Accuracy: 0.602400\n",
      "Epoch  7, CIFAR-10 Batch 4:  Loss:     0.9013, Validation Accuracy: 0.618000\n",
      "Epoch  7, CIFAR-10 Batch 5:  Loss:     0.9061, Validation Accuracy: 0.617600\n",
      "Epoch  8, CIFAR-10 Batch 1:  Loss:     0.9710, Validation Accuracy: 0.614400\n",
      "Epoch  8, CIFAR-10 Batch 2:  Loss:     0.9257, Validation Accuracy: 0.582600\n",
      "Epoch  8, CIFAR-10 Batch 3:  Loss:     0.8507, Validation Accuracy: 0.613400\n",
      "Epoch  8, CIFAR-10 Batch 4:  Loss:     0.8573, Validation Accuracy: 0.625600\n",
      "Epoch  8, CIFAR-10 Batch 5:  Loss:     0.8531, Validation Accuracy: 0.631000\n",
      "Epoch  9, CIFAR-10 Batch 1:  Loss:     0.9124, Validation Accuracy: 0.627400\n",
      "Epoch  9, CIFAR-10 Batch 2:  Loss:     0.8520, Validation Accuracy: 0.609200\n",
      "Epoch  9, CIFAR-10 Batch 3:  Loss:     0.8296, Validation Accuracy: 0.622000\n",
      "Epoch  9, CIFAR-10 Batch 4:  Loss:     0.8124, Validation Accuracy: 0.637600\n",
      "Epoch  9, CIFAR-10 Batch 5:  Loss:     0.7845, Validation Accuracy: 0.639600\n",
      "Epoch 10, CIFAR-10 Batch 1:  Loss:     0.8554, Validation Accuracy: 0.640400\n",
      "Epoch 10, CIFAR-10 Batch 2:  Loss:     0.8179, Validation Accuracy: 0.624400\n",
      "Epoch 10, CIFAR-10 Batch 3:  Loss:     0.7947, Validation Accuracy: 0.633800\n",
      "Epoch 10, CIFAR-10 Batch 4:  Loss:     0.7786, Validation Accuracy: 0.644800\n",
      "Epoch 10, CIFAR-10 Batch 5:  Loss:     0.7488, Validation Accuracy: 0.648000\n",
      "Epoch 11, CIFAR-10 Batch 1:  Loss:     0.8088, Validation Accuracy: 0.641600\n",
      "Epoch 11, CIFAR-10 Batch 2:  Loss:     0.7874, Validation Accuracy: 0.629600\n",
      "Epoch 11, CIFAR-10 Batch 3:  Loss:     0.7419, Validation Accuracy: 0.645600\n",
      "Epoch 11, CIFAR-10 Batch 4:  Loss:     0.7627, Validation Accuracy: 0.646200\n",
      "Epoch 11, CIFAR-10 Batch 5:  Loss:     0.7145, Validation Accuracy: 0.652800\n",
      "Epoch 12, CIFAR-10 Batch 1:  Loss:     0.7768, Validation Accuracy: 0.642600\n",
      "Epoch 12, CIFAR-10 Batch 2:  Loss:     0.7467, Validation Accuracy: 0.648800\n",
      "Epoch 12, CIFAR-10 Batch 3:  Loss:     0.6983, Validation Accuracy: 0.653600\n",
      "Epoch 12, CIFAR-10 Batch 4:  Loss:     0.7027, Validation Accuracy: 0.658600\n",
      "Epoch 12, CIFAR-10 Batch 5:  Loss:     0.6860, Validation Accuracy: 0.653800\n",
      "Epoch 13, CIFAR-10 Batch 1:  Loss:     0.7365, Validation Accuracy: 0.646200\n",
      "Epoch 13, CIFAR-10 Batch 2:  Loss:     0.6971, Validation Accuracy: 0.643200\n",
      "Epoch 13, CIFAR-10 Batch 3:  Loss:     0.6625, Validation Accuracy: 0.658200\n",
      "Epoch 13, CIFAR-10 Batch 4:  Loss:     0.6701, Validation Accuracy: 0.658000\n",
      "Epoch 13, CIFAR-10 Batch 5:  Loss:     0.6392, Validation Accuracy: 0.663200\n",
      "Epoch 14, CIFAR-10 Batch 1:  Loss:     0.6939, Validation Accuracy: 0.658400\n",
      "Epoch 14, CIFAR-10 Batch 2:  Loss:     0.6691, Validation Accuracy: 0.652200\n",
      "Epoch 14, CIFAR-10 Batch 3:  Loss:     0.6297, Validation Accuracy: 0.665800\n",
      "Epoch 14, CIFAR-10 Batch 4:  Loss:     0.6487, Validation Accuracy: 0.663000\n",
      "Epoch 14, CIFAR-10 Batch 5:  Loss:     0.6256, Validation Accuracy: 0.666600\n",
      "Epoch 15, CIFAR-10 Batch 1:  Loss:     0.6730, Validation Accuracy: 0.649400\n",
      "Epoch 15, CIFAR-10 Batch 2:  Loss:     0.6479, Validation Accuracy: 0.648000\n",
      "Epoch 15, CIFAR-10 Batch 3:  Loss:     0.5897, Validation Accuracy: 0.671000\n",
      "Epoch 15, CIFAR-10 Batch 4:  Loss:     0.5884, Validation Accuracy: 0.671400\n",
      "Epoch 15, CIFAR-10 Batch 5:  Loss:     0.5717, Validation Accuracy: 0.667600\n",
      "Epoch 16, CIFAR-10 Batch 1:  Loss:     0.6309, Validation Accuracy: 0.657000\n",
      "Epoch 16, CIFAR-10 Batch 2:  Loss:     0.6515, Validation Accuracy: 0.643400\n",
      "Epoch 16, CIFAR-10 Batch 3:  Loss:     0.5899, Validation Accuracy: 0.664400\n",
      "Epoch 16, CIFAR-10 Batch 4:  Loss:     0.5540, Validation Accuracy: 0.678200\n",
      "Epoch 16, CIFAR-10 Batch 5:  Loss:     0.5735, Validation Accuracy: 0.665800\n",
      "Epoch 17, CIFAR-10 Batch 1:  Loss:     0.6171, Validation Accuracy: 0.652400\n",
      "Epoch 17, CIFAR-10 Batch 2:  Loss:     0.6111, Validation Accuracy: 0.658400\n",
      "Epoch 17, CIFAR-10 Batch 3:  Loss:     0.5606, Validation Accuracy: 0.666400\n",
      "Epoch 17, CIFAR-10 Batch 4:  Loss:     0.5405, Validation Accuracy: 0.674400\n",
      "Epoch 17, CIFAR-10 Batch 5:  Loss:     0.5310, Validation Accuracy: 0.669000\n",
      "Epoch 18, CIFAR-10 Batch 1:  Loss:     0.5671, Validation Accuracy: 0.674200\n",
      "Epoch 18, CIFAR-10 Batch 2:  Loss:     0.5582, Validation Accuracy: 0.663000\n",
      "Epoch 18, CIFAR-10 Batch 3:  Loss:     0.5332, Validation Accuracy: 0.663200\n",
      "Epoch 18, CIFAR-10 Batch 4:  Loss:     0.5257, Validation Accuracy: 0.671800\n",
      "Epoch 18, CIFAR-10 Batch 5:  Loss:     0.5111, Validation Accuracy: 0.664200\n",
      "Epoch 19, CIFAR-10 Batch 1:  Loss:     0.5411, Validation Accuracy: 0.675600\n",
      "Epoch 19, CIFAR-10 Batch 2:  Loss:     0.5543, Validation Accuracy: 0.657600\n",
      "Epoch 19, CIFAR-10 Batch 3:  Loss:     0.4999, Validation Accuracy: 0.679800\n",
      "Epoch 19, CIFAR-10 Batch 4:  Loss:     0.4956, Validation Accuracy: 0.674600\n",
      "Epoch 19, CIFAR-10 Batch 5:  Loss:     0.4762, Validation Accuracy: 0.683000\n",
      "Epoch 20, CIFAR-10 Batch 1:  Loss:     0.5280, Validation Accuracy: 0.671200\n",
      "Epoch 20, CIFAR-10 Batch 2:  Loss:     0.5160, Validation Accuracy: 0.668200\n",
      "Epoch 20, CIFAR-10 Batch 3:  Loss:     0.4987, Validation Accuracy: 0.676200\n",
      "Epoch 20, CIFAR-10 Batch 4:  Loss:     0.4879, Validation Accuracy: 0.679000\n",
      "Epoch 20, CIFAR-10 Batch 5:  Loss:     0.4547, Validation Accuracy: 0.682400\n",
      "Epoch 21, CIFAR-10 Batch 1:  Loss:     0.5083, Validation Accuracy: 0.668200\n",
      "Epoch 21, CIFAR-10 Batch 2:  Loss:     0.4694, Validation Accuracy: 0.675800\n",
      "Epoch 21, CIFAR-10 Batch 3:  Loss:     0.4480, Validation Accuracy: 0.673000\n",
      "Epoch 21, CIFAR-10 Batch 4:  Loss:     0.4406, Validation Accuracy: 0.682400\n",
      "Epoch 21, CIFAR-10 Batch 5:  Loss:     0.4379, Validation Accuracy: 0.679600\n",
      "Epoch 22, CIFAR-10 Batch 1:  Loss:     0.4907, Validation Accuracy: 0.658400\n",
      "Epoch 22, CIFAR-10 Batch 2:  Loss:     0.4555, Validation Accuracy: 0.678400\n",
      "Epoch 22, CIFAR-10 Batch 3:  Loss:     0.4306, Validation Accuracy: 0.668800\n",
      "Epoch 22, CIFAR-10 Batch 4:  Loss:     0.4058, Validation Accuracy: 0.684000\n",
      "Epoch 22, CIFAR-10 Batch 5:  Loss:     0.4204, Validation Accuracy: 0.680400\n",
      "Epoch 23, CIFAR-10 Batch 1:  Loss:     0.4720, Validation Accuracy: 0.663800\n",
      "Epoch 23, CIFAR-10 Batch 2:  Loss:     0.4218, Validation Accuracy: 0.681200\n",
      "Epoch 23, CIFAR-10 Batch 3:  Loss:     0.4147, Validation Accuracy: 0.675600\n",
      "Epoch 23, CIFAR-10 Batch 4:  Loss:     0.3951, Validation Accuracy: 0.683600\n",
      "Epoch 23, CIFAR-10 Batch 5:  Loss:     0.4000, Validation Accuracy: 0.680600\n",
      "Epoch 24, CIFAR-10 Batch 1:  Loss:     0.4426, Validation Accuracy: 0.670800\n",
      "Epoch 24, CIFAR-10 Batch 2:  Loss:     0.4195, Validation Accuracy: 0.682000\n",
      "Epoch 24, CIFAR-10 Batch 3:  Loss:     0.4243, Validation Accuracy: 0.662200\n",
      "Epoch 24, CIFAR-10 Batch 4:  Loss:     0.3692, Validation Accuracy: 0.684400\n",
      "Epoch 24, CIFAR-10 Batch 5:  Loss:     0.4104, Validation Accuracy: 0.684000\n",
      "Epoch 25, CIFAR-10 Batch 1:  Loss:     0.4252, Validation Accuracy: 0.672600\n",
      "Epoch 25, CIFAR-10 Batch 2:  Loss:     0.3926, Validation Accuracy: 0.686000\n",
      "Epoch 25, CIFAR-10 Batch 3:  Loss:     0.3831, Validation Accuracy: 0.676000\n",
      "Epoch 25, CIFAR-10 Batch 4:  Loss:     0.3638, Validation Accuracy: 0.676800\n",
      "Epoch 25, CIFAR-10 Batch 5:  Loss:     0.3955, Validation Accuracy: 0.681200\n",
      "Epoch 26, CIFAR-10 Batch 1:  Loss:     0.4082, Validation Accuracy: 0.671600\n",
      "Epoch 26, CIFAR-10 Batch 2:  Loss:     0.3712, Validation Accuracy: 0.685000\n",
      "Epoch 26, CIFAR-10 Batch 3:  Loss:     0.3772, Validation Accuracy: 0.665400\n",
      "Epoch 26, CIFAR-10 Batch 4:  Loss:     0.3475, Validation Accuracy: 0.681400\n",
      "Epoch 26, CIFAR-10 Batch 5:  Loss:     0.3742, Validation Accuracy: 0.680800\n",
      "Epoch 27, CIFAR-10 Batch 1:  Loss:     0.3865, Validation Accuracy: 0.672000\n",
      "Epoch 27, CIFAR-10 Batch 2:  Loss:     0.3557, Validation Accuracy: 0.681400\n",
      "Epoch 27, CIFAR-10 Batch 3:  Loss:     0.3384, Validation Accuracy: 0.667000\n",
      "Epoch 27, CIFAR-10 Batch 4:  Loss:     0.3143, Validation Accuracy: 0.682800\n",
      "Epoch 27, CIFAR-10 Batch 5:  Loss:     0.3503, Validation Accuracy: 0.673600\n",
      "Epoch 28, CIFAR-10 Batch 1:  Loss:     0.3752, Validation Accuracy: 0.669400\n",
      "Epoch 28, CIFAR-10 Batch 2:  Loss:     0.3346, Validation Accuracy: 0.688400\n",
      "Epoch 28, CIFAR-10 Batch 3:  Loss:     0.3202, Validation Accuracy: 0.669600\n",
      "Epoch 28, CIFAR-10 Batch 4:  Loss:     0.2927, Validation Accuracy: 0.679600\n",
      "Epoch 28, CIFAR-10 Batch 5:  Loss:     0.3302, Validation Accuracy: 0.688200\n",
      "Epoch 29, CIFAR-10 Batch 1:  Loss:     0.3547, Validation Accuracy: 0.680000\n",
      "Epoch 29, CIFAR-10 Batch 2:  Loss:     0.3507, Validation Accuracy: 0.684400\n",
      "Epoch 29, CIFAR-10 Batch 3:  Loss:     0.3479, Validation Accuracy: 0.654400\n",
      "Epoch 29, CIFAR-10 Batch 4:  Loss:     0.2887, Validation Accuracy: 0.686200\n",
      "Epoch 29, CIFAR-10 Batch 5:  Loss:     0.3274, Validation Accuracy: 0.683000\n",
      "Epoch 30, CIFAR-10 Batch 1:  Loss:     0.3524, Validation Accuracy: 0.675400\n",
      "Epoch 30, CIFAR-10 Batch 2:  Loss:     0.3255, Validation Accuracy: 0.684600\n",
      "Epoch 30, CIFAR-10 Batch 3:  Loss:     0.3161, Validation Accuracy: 0.664000\n",
      "Epoch 30, CIFAR-10 Batch 4:  Loss:     0.3029, Validation Accuracy: 0.680600\n",
      "Epoch 30, CIFAR-10 Batch 5:  Loss:     0.3358, Validation Accuracy: 0.676200\n"
     ]
    }
   ],
   "source": [
    "\"\"\"\n",
    "DON'T MODIFY ANYTHING IN THIS CELL\n",
    "\"\"\"\n",
    "save_model_path = './image_classification'\n",
    "\n",
    "print('Training...')\n",
    "with tf.Session() as sess:\n",
    "    # Initializing the variables\n",
    "    sess.run(tf.global_variables_initializer())\n",
    "    \n",
    "    # Training cycle\n",
    "    for epoch in range(epochs):\n",
    "        # Loop over all batches\n",
    "        n_batches = 5\n",
    "        for batch_i in range(1, n_batches + 1):\n",
    "            for batch_features, batch_labels in helper.load_preprocess_training_batch(batch_i, batch_size):\n",
    "                train_neural_network(sess, optimizer, keep_probability, batch_features, batch_labels)\n",
    "            print('Epoch {:>2}, CIFAR-10 Batch {}:  '.format(epoch + 1, batch_i), end='')\n",
    "            print_stats(sess, batch_features, batch_labels, cost, accuracy)\n",
    "            \n",
    "    # Save Model\n",
    "    saver = tf.train.Saver()\n",
    "    save_path = saver.save(sess, save_model_path)"
   ]
  },
  {
   "cell_type": "markdown",
   "metadata": {
    "deletable": true,
    "editable": true
   },
   "source": [
    "# Checkpoint\n",
    "The model has been saved to disk.\n",
    "## Test Model\n",
    "Test your model against the test dataset.  This will be your final accuracy. You should have an accuracy greater than 50%. If you don't, keep tweaking the model architecture and parameters."
   ]
  },
  {
   "cell_type": "code",
   "execution_count": 205,
   "metadata": {
    "collapsed": false,
    "deletable": true,
    "editable": true
   },
   "outputs": [
    {
     "name": "stdout",
     "output_type": "stream",
     "text": [
      "Testing Accuracy: 0.6676642924547196\n",
      "\n"
     ]
    },
    {
     "data": {
      "image/png": "[encoded data removed]",
      "text/plain": [
       "<matplotlib.figure.Figure at 0x7f96cc32e940>"
      ]
     },
     "metadata": {
      "image/png": {
       "height": 319,
       "width": 355
      }
     },
     "output_type": "display_data"
    }
   ],
   "source": [
    "\"\"\"\n",
    "DON'T MODIFY ANYTHING IN THIS CELL\n",
    "\"\"\"\n",
    "%matplotlib inline\n",
    "%config InlineBackend.figure_format = 'retina'\n",
    "\n",
    "import tensorflow as tf\n",
    "import pickle\n",
    "import helper\n",
    "import random\n",
    "\n",
    "# Set batch size if not already set\n",
    "try:\n",
    "    if batch_size:\n",
    "        pass\n",
    "except NameError:\n",
    "    batch_size = 64\n",
    "\n",
    "save_model_path = './image_classification'\n",
    "n_samples = 4\n",
    "top_n_predictions = 3\n",
    "\n",
    "def test_model():\n",
    "    \"\"\"\n",
    "    Test the saved model against the test dataset\n",
    "    \"\"\"\n",
    "\n",
    "    test_features, test_labels = pickle.load(open('preprocess_training.p', mode='rb'))\n",
    "    loaded_graph = tf.Graph()\n",
    "\n",
    "    with tf.Session(graph=loaded_graph) as sess:\n",
    "        # Load model\n",
    "        loader = tf.train.import_meta_graph(save_model_path + '.meta')\n",
    "        loader.restore(sess, save_model_path)\n",
    "\n",
    "        # Get Tensors from loaded model\n",
    "        loaded_x = loaded_graph.get_tensor_by_name('x:0')\n",
    "        loaded_y = loaded_graph.get_tensor_by_name('y:0')\n",
    "        loaded_keep_prob = loaded_graph.get_tensor_by_name('keep_prob:0')\n",
    "        loaded_logits = loaded_graph.get_tensor_by_name('logits:0')\n",
    "        loaded_acc = loaded_graph.get_tensor_by_name('accuracy:0')\n",
    "        \n",
    "        # Get accuracy in batches for memory limitations\n",
    "        test_batch_acc_total = 0\n",
    "        test_batch_count = 0\n",
    "        \n",
    "        for train_feature_batch, train_label_batch in helper.batch_features_labels(test_features, test_labels, batch_size):\n",
    "            test_batch_acc_total += sess.run(\n",
    "                loaded_acc,\n",
    "                feed_dict={loaded_x: train_feature_batch, loaded_y: train_label_batch, loaded_keep_prob: 1.0})\n",
    "            test_batch_count += 1\n",
    "\n",
    "        print('Testing Accuracy: {}\\n'.format(test_batch_acc_total/test_batch_count))\n",
    "\n",
    "        # Print Random Samples\n",
    "        random_test_features, random_test_labels = tuple(zip(*random.sample(list(zip(test_features, test_labels)), n_samples)))\n",
    "        random_test_predictions = sess.run(\n",
    "            tf.nn.top_k(tf.nn.softmax(loaded_logits), top_n_predictions),\n",
    "            feed_dict={loaded_x: random_test_features, loaded_y: random_test_labels, loaded_keep_prob: 1.0})\n",
    "        helper.display_image_predictions(random_test_features, random_test_labels, random_test_predictions)\n",
    "\n",
    "\n",
    "test_model()"
   ]
  },
  {
   "cell_type": "markdown",
   "metadata": {
    "deletable": true,
    "editable": true
   },
   "source": [
    "## Why 50-80% Accuracy?\n",
    "You might be wondering why you can't get an accuracy any higher. First things first, 50% isn't bad for a simple CNN.  Pure guessing would get you 10% accuracy. However, you might notice people are getting scores [well above 80%](http://rodrigob.github.io/are_we_there_yet/build/classification_datasets_results.html#43494641522d3130).  That's because we haven't taught you all there is to know about neural networks. We still need to cover a few more techniques.\n",
    "## Submitting This Project\n",
    "When submitting this project, make sure to run all the cells before saving the notebook.  Save the notebook file as \"dlnd_image_classification.ipynb\" and save it as a HTML file under \"File\" -> \"Download as\".  Include the \"helper.py\" and \"problem_unittests.py\" files in your submission."
   ]
  }
 ],
 "metadata": {
  "kernelspec": {
   "display_name": "Python 3",
   "language": "python",
   "name": "python3"
  },
  "language_info": {
   "codemirror_mode": {
    "name": "ipython",
    "version": 3
   },
   "file_extension": ".py",
   "mimetype": "text/x-python",
   "name": "python",
   "nbconvert_exporter": "python",
   "pygments_lexer": "ipython3",
   "version": "3.5.2"
  },
  "widgets": {
   "state": {},
   "version": "1.1.2"
  }
 },
 "nbformat": 4,
 "nbformat_minor": 0
}
